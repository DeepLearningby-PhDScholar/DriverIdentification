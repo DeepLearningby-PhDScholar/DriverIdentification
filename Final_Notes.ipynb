{
 "cells": [
  {
   "cell_type": "markdown",
   "metadata": {},
   "source": [
    "# Driver Identification using Deep learning"
   ]
  },
  {
   "cell_type": "code",
   "execution_count": 2,
   "metadata": {},
   "outputs": [
    {
     "data": {
      "text/plain": [
       "OneClassSVM(cache_size=200, coef0=0.0, degree=3, gamma=0.1, kernel='rbf',\n",
       "            max_iter=-1, nu=0.1, random_state=None, shrinking=True, tol=0.001,\n",
       "            verbose=False)"
      ]
     },
     "execution_count": 2,
     "metadata": {},
     "output_type": "execute_result"
    }
   ],
   "source": [
    "import pandas as pd  # pip install pandas\n",
    "%matplotlib inline\n",
    "import matplotlib.pyplot as plt # pip install matplotlib\n",
    "#import seaborn as sns; sns.set()  # for plot styling\n",
    "import numpy as np\n",
    "\n",
    "data=pd.read_csv('full_data_test.csv')\n",
    "\n",
    "columns2=[\"Long_Term_Fuel_Trim_Bank1\",\"Intake_air_pressure\",\"Accelerator_Pedal_value\",\"Fuel_consumption\",\"Torque_of_friction\",\"Maximum_indicated_engine_torque\",\"Engine_torque\",\"Calculated_LOAD_value\",\n",
    "\"Activation_of_Air_compressor\",\"Engine_coolant_temperature\",\"Transmission_oil_temperature\",\"Wheel_velocity_front_left-hand\",\"Wheel_velocity_front_right-hand\",\"Wheel_velocity_rear_left-hand\",\n",
    "\"Torque_converter_speed\"]\n",
    "\n",
    "#The anomalie detector using the One-Class Support Vector Machine\n",
    "\n",
    "from sklearn import svm\n",
    "ano_det = svm.OneClassSVM(nu=0.1, kernel=\"rbf\", gamma=0.1) # nu is upper bound, gamma  , kernal coeffient of rbf (), 1 / (n_features * X.var()) as value of gamma \n",
    "ano_det.fit(data[columns2])\n",
    "\n"
   ]
  },
  {
   "cell_type": "code",
   "execution_count": 3,
   "metadata": {},
   "outputs": [
    {
     "name": "stdout",
     "output_type": "stream",
     "text": [
      "Driver : 0 number of trips :4  For Train : 3  For valid :1\n",
      "Driver : 1 number of trips :6  For Train : 5  For valid :1\n",
      "Driver : 2 number of trips :4  For Train : 3  For valid :1\n",
      "Driver : 3 number of trips :6  For Train : 5  For valid :1\n",
      "Driver : 4 number of trips :4  For Train : 3  For valid :1\n",
      "Driver : 5 number of trips :4  For Train : 3  For valid :1\n",
      "Driver : 6 number of trips :4  For Train : 3  For valid :1\n",
      "Driver : 7 number of trips :4  For Train : 3  For valid :1\n",
      "Driver : 8 number of trips :4  For Train : 3  For valid :1\n",
      "Driver : 9 number of trips :4  For Train : 3  For valid :1\n",
      "total is 1551\n",
      "(1551, 60, 15)\n"
     ]
    }
   ],
   "source": [
    "# Preprocessing of the data\n",
    "\n",
    "\n",
    "classes=['A','B','C','D','E','F','G','H','I','J']\n",
    "\n",
    "\n",
    "drivers =[]\n",
    "for c in classes:\n",
    "    drivers.append(data[data['Class']==c])\n",
    "dataa=[]\n",
    "for c in range(len(drivers)):\n",
    "    nt=0\n",
    "    nv=0\n",
    "    drivers[c]=drivers[c].reset_index(drop=True)\n",
    "    idxs=drivers[c][drivers[c]['Time(s)']==1].index.values\n",
    "    for i in range(len(idxs)):\n",
    "        if i <(len(idxs)-1):\n",
    "            nt=nt+1\n",
    "            dataa.append(drivers[c][idxs[i]:idxs[i+1]])\n",
    "        if i==(len(idxs)-1):\n",
    "            nv=nv+1\n",
    "            dataa.append(drivers[c][idxs[i]:])\n",
    "    print(\"Driver : \"+str(c)+\" number of trips :\"+str(len(idxs))+ \"  For Train : \"+str(nt)+\"  For valid :\"+str(nv))\n",
    "\n",
    "\n",
    "drivers=[]\n",
    "ss=0\n",
    "for i in range(len(dataa)):\n",
    "    #print(n)\n",
    "    n=int(len(dataa[i])/60)\n",
    "    #print(\" Drive \"+str(i)+\" contains \"+str(n)+\" subdriversets\")\n",
    "    dd=0\n",
    "    for j in range(n):\n",
    "        #print(j)\n",
    "        temp=dataa[i][dd:dd+60]\n",
    "        temp=temp.reset_index(drop=True)\n",
    "        drivers.append(temp)\n",
    "        ss=ss+1\n",
    "        dd=dd+60\n",
    "print(\"total is \"+str(ss))\n",
    "\n",
    "  \n",
    "\n",
    "samples = list()\n",
    "labels=list()\n",
    "from sklearn.preprocessing import StandardScaler\n",
    "scaler = StandardScaler()\n",
    "scaler.fit(data[columns2].values)\n",
    "for c in drivers:\n",
    "    labels.append(c['Class'][0])\n",
    "    del c['Class']\n",
    "    del c['Time(s)']\n",
    "    samples.append(scaler.transform(c[columns2].values))\n",
    "data = np.array(samples)\n",
    "print(data.shape)\n",
    "\n"
   ]
  },
  {
   "cell_type": "code",
   "execution_count": 4,
   "metadata": {},
   "outputs": [
    {
     "data": {
      "text/plain": [
       "(60, 15)"
      ]
     },
     "execution_count": 4,
     "metadata": {},
     "output_type": "execute_result"
    }
   ],
   "source": [
    "data[0].shape"
   ]
  },
  {
   "cell_type": "code",
   "execution_count": 5,
   "metadata": {},
   "outputs": [
    {
     "name": "stderr",
     "output_type": "stream",
     "text": [
      "Using TensorFlow backend.\n"
     ]
    }
   ],
   "source": [
    "from sklearn import preprocessing\n",
    "le = preprocessing.LabelEncoder()\n",
    "le.fit(labels)\n",
    "labels=le.transform(labels) \n",
    "\n",
    "\n",
    "from keras import optimizers\n",
    "\n",
    "\n",
    "# Doing the cross validation and training the model\n",
    "\n",
    "from sklearn.model_selection import train_test_split\n",
    "X_train, X_test, y_train, y_test = train_test_split(data, labels, test_size=0.3, random_state=31)\n",
    "X_test, X_predict, y_test, y_predict = train_test_split(X_train, y_train, test_size=0.1, random_state=31)"
   ]
  },
  {
   "cell_type": "code",
   "execution_count": 6,
   "metadata": {},
   "outputs": [
    {
     "data": {
      "text/plain": [
       "(1085, 60, 15)"
      ]
     },
     "execution_count": 6,
     "metadata": {},
     "output_type": "execute_result"
    }
   ],
   "source": [
    "X_train.shape"
   ]
  },
  {
   "cell_type": "code",
   "execution_count": 7,
   "metadata": {},
   "outputs": [
    {
     "data": {
      "text/plain": [
       "(976, 60, 15)"
      ]
     },
     "execution_count": 7,
     "metadata": {},
     "output_type": "execute_result"
    }
   ],
   "source": [
    "X_test.shape"
   ]
  },
  {
   "cell_type": "code",
   "execution_count": 8,
   "metadata": {},
   "outputs": [
    {
     "data": {
      "text/plain": [
       "(109, 60, 15)"
      ]
     },
     "execution_count": 8,
     "metadata": {},
     "output_type": "execute_result"
    }
   ],
   "source": [
    "X_predict.shape"
   ]
  },
  {
   "cell_type": "code",
   "execution_count": 9,
   "metadata": {},
   "outputs": [
    {
     "data": {
      "text/plain": [
       "60"
      ]
     },
     "execution_count": 9,
     "metadata": {},
     "output_type": "execute_result"
    }
   ],
   "source": [
    "data.shape[1]"
   ]
  },
  {
   "cell_type": "code",
   "execution_count": 10,
   "metadata": {},
   "outputs": [
    {
     "data": {
      "text/plain": [
       "15"
      ]
     },
     "execution_count": 10,
     "metadata": {},
     "output_type": "execute_result"
    }
   ],
   "source": [
    "data.shape[2]"
   ]
  },
  {
   "cell_type": "code",
   "execution_count": 15,
   "metadata": {},
   "outputs": [
    {
     "name": "stdout",
     "output_type": "stream",
     "text": [
      "WARNING:tensorflow:Large dropout rate: 0.8 (>0.5). In TensorFlow 2.x, dropout() uses dropout rate instead of keep_prob. Please ensure that this is intended.\n"
     ]
    }
   ],
   "source": [
    "\n",
    "from keras.models import Sequential\n",
    "from keras.layers import Dense\n",
    "from keras.layers import *\n",
    "\n",
    "from keras.models import Model\n",
    "from keras.layers import Input, PReLU, Dense, LSTM, multiply, concatenate, Activation\n",
    "from keras.layers import Conv1D, BatchNormalization, GlobalAveragePooling1D, Permute, Dropout\n",
    "from keras.callbacks import ModelCheckpoint\n",
    "from tensorflow import keras\n",
    "from tensorflow.keras import layers\n",
    "\n",
    "\n",
    "ip = Input(shape=(data.shape[1], data.shape[2]))\n",
    "x = Permute((2, 1))(ip)\n",
    "x=LSTM(10)(x)\n",
    "x = Dropout(0.8)(x)\n",
    "y = Conv1D(128, 8, padding='same', kernel_initializer='he_uniform')(ip)\n",
    "y = BatchNormalization()(y)\n",
    "y = Activation('relu')(y)\n",
    "y = Conv1D(256, 5, padding='same', kernel_initializer='he_uniform')(y)\n",
    "y = BatchNormalization()(y)\n",
    "y = Activation('relu')(y)\n",
    "y = Conv1D(128, 3, padding='same', kernel_initializer='he_uniform')(y)\n",
    "y = BatchNormalization()(y)\n",
    "y = Activation('relu')(y)\n",
    "y = GlobalAveragePooling1D()(y)\n",
    "x = concatenate([x, y])\n",
    "out = Dense(10, activation='sigmoid')(y)\n",
    "model = Model(ip, out)\n"
   ]
  },
  {
   "cell_type": "code",
   "execution_count": 16,
   "metadata": {},
   "outputs": [
    {
     "name": "stdout",
     "output_type": "stream",
     "text": [
      "Model: \"model_2\"\n",
      "_________________________________________________________________\n",
      "Layer (type)                 Output Shape              Param #   \n",
      "=================================================================\n",
      "input_2 (InputLayer)         (None, 60, 15)            0         \n",
      "_________________________________________________________________\n",
      "conv1d_4 (Conv1D)            (None, 60, 128)           15488     \n",
      "_________________________________________________________________\n",
      "batch_normalization_4 (Batch (None, 60, 128)           512       \n",
      "_________________________________________________________________\n",
      "activation_4 (Activation)    (None, 60, 128)           0         \n",
      "_________________________________________________________________\n",
      "conv1d_5 (Conv1D)            (None, 60, 256)           164096    \n",
      "_________________________________________________________________\n",
      "batch_normalization_5 (Batch (None, 60, 256)           1024      \n",
      "_________________________________________________________________\n",
      "activation_5 (Activation)    (None, 60, 256)           0         \n",
      "_________________________________________________________________\n",
      "conv1d_6 (Conv1D)            (None, 60, 128)           98432     \n",
      "_________________________________________________________________\n",
      "batch_normalization_6 (Batch (None, 60, 128)           512       \n",
      "_________________________________________________________________\n",
      "activation_6 (Activation)    (None, 60, 128)           0         \n",
      "_________________________________________________________________\n",
      "global_average_pooling1d_2 ( (None, 128)               0         \n",
      "_________________________________________________________________\n",
      "dense_2 (Dense)              (None, 10)                1290      \n",
      "=================================================================\n",
      "Total params: 281,354\n",
      "Trainable params: 280,330\n",
      "Non-trainable params: 1,024\n",
      "_________________________________________________________________\n"
     ]
    }
   ],
   "source": [
    "model.summary()"
   ]
  },
  {
   "cell_type": "markdown",
   "metadata": {},
   "source": [
    "# Train the Model"
   ]
  },
  {
   "cell_type": "code",
   "execution_count": 17,
   "metadata": {},
   "outputs": [
    {
     "name": "stdout",
     "output_type": "stream",
     "text": [
      "Train on 1085 samples, validate on 976 samples\n",
      "Epoch 1/30\n",
      " - 1s - loss: 1.9628 - accuracy: 0.3585 - val_loss: 2.6062 - val_accuracy: 0.2766\n",
      "Epoch 2/30\n",
      " - 1s - loss: 1.6322 - accuracy: 0.4876 - val_loss: 2.9230 - val_accuracy: 0.3125\n",
      "Epoch 3/30\n",
      " - 1s - loss: 1.4504 - accuracy: 0.5650 - val_loss: 2.9585 - val_accuracy: 0.3227\n",
      "Epoch 4/30\n",
      " - 1s - loss: 1.2993 - accuracy: 0.5650 - val_loss: 2.5636 - val_accuracy: 0.3576\n",
      "Epoch 5/30\n",
      " - 1s - loss: 1.1700 - accuracy: 0.6212 - val_loss: 2.3638 - val_accuracy: 0.3627\n",
      "Epoch 6/30\n",
      " - 1s - loss: 1.0365 - accuracy: 0.6461 - val_loss: 2.0234 - val_accuracy: 0.3791\n",
      "Epoch 7/30\n",
      " - 1s - loss: 0.9201 - accuracy: 0.7226 - val_loss: 1.7272 - val_accuracy: 0.4068\n",
      "Epoch 8/30\n",
      " - 1s - loss: 0.8249 - accuracy: 0.7493 - val_loss: 1.5582 - val_accuracy: 0.4580\n",
      "Epoch 9/30\n",
      " - 1s - loss: 0.7279 - accuracy: 0.7871 - val_loss: 1.4280 - val_accuracy: 0.4959\n",
      "Epoch 10/30\n",
      " - 1s - loss: 0.6374 - accuracy: 0.8221 - val_loss: 1.2245 - val_accuracy: 0.5686\n",
      "Epoch 11/30\n",
      " - 1s - loss: 0.5662 - accuracy: 0.8378 - val_loss: 1.1141 - val_accuracy: 0.5994\n",
      "Epoch 12/30\n",
      " - 1s - loss: 0.5125 - accuracy: 0.8544 - val_loss: 0.9835 - val_accuracy: 0.6434\n",
      "Epoch 13/30\n",
      " - 1s - loss: 0.4681 - accuracy: 0.8627 - val_loss: 0.9382 - val_accuracy: 0.6629\n",
      "Epoch 14/30\n",
      " - 1s - loss: 0.4690 - accuracy: 0.8488 - val_loss: 0.8266 - val_accuracy: 0.7264\n",
      "Epoch 15/30\n",
      " - 1s - loss: 0.4577 - accuracy: 0.8654 - val_loss: 0.7640 - val_accuracy: 0.7531\n",
      "Epoch 16/30\n",
      " - 1s - loss: 0.4215 - accuracy: 0.8710 - val_loss: 0.6401 - val_accuracy: 0.7992\n",
      "Epoch 17/30\n",
      " - 1s - loss: 0.3781 - accuracy: 0.8940 - val_loss: 0.5488 - val_accuracy: 0.8258\n",
      "Epoch 18/30\n",
      " - 1s - loss: 0.3841 - accuracy: 0.8728 - val_loss: 0.5792 - val_accuracy: 0.8227\n",
      "Epoch 19/30\n",
      " - 1s - loss: 0.3593 - accuracy: 0.8839 - val_loss: 0.4843 - val_accuracy: 0.8730\n",
      "Epoch 20/30\n",
      " - 1s - loss: 0.3069 - accuracy: 0.9115 - val_loss: 0.4397 - val_accuracy: 0.8945\n",
      "Epoch 21/30\n",
      " - 1s - loss: 0.2824 - accuracy: 0.9309 - val_loss: 0.4387 - val_accuracy: 0.8842\n",
      "Epoch 22/30\n",
      " - 1s - loss: 0.2781 - accuracy: 0.9207 - val_loss: 0.3860 - val_accuracy: 0.8934\n",
      "Epoch 23/30\n",
      " - 1s - loss: 0.2722 - accuracy: 0.9198 - val_loss: 0.3463 - val_accuracy: 0.9180\n",
      "Epoch 24/30\n",
      " - 1s - loss: 0.2478 - accuracy: 0.9401 - val_loss: 0.3516 - val_accuracy: 0.8934\n",
      "Epoch 25/30\n",
      " - 1s - loss: 0.2096 - accuracy: 0.9502 - val_loss: 0.2841 - val_accuracy: 0.9385\n",
      "Epoch 26/30\n",
      " - 1s - loss: 0.2140 - accuracy: 0.9401 - val_loss: 0.2609 - val_accuracy: 0.9559\n",
      "Epoch 27/30\n",
      " - 1s - loss: 0.1972 - accuracy: 0.9502 - val_loss: 0.2890 - val_accuracy: 0.9098\n",
      "Epoch 28/30\n",
      " - 1s - loss: 0.1843 - accuracy: 0.9530 - val_loss: 0.2351 - val_accuracy: 0.9631\n",
      "Epoch 29/30\n",
      " - 1s - loss: 0.1734 - accuracy: 0.9613 - val_loss: 0.2375 - val_accuracy: 0.9457\n",
      "Epoch 30/30\n",
      " - 1s - loss: 0.1630 - accuracy: 0.9659 - val_loss: 0.1942 - val_accuracy: 0.9662\n"
     ]
    }
   ],
   "source": [
    "model.compile(loss='sparse_categorical_crossentropy', optimizer='adam', metrics=['accuracy'])\n",
    "history = model.fit(X_train, y_train, validation_data=(X_test,y_test), epochs=5, batch_size=128, verbose=2)"
   ]
  },
  {
   "cell_type": "code",
   "execution_count": 18,
   "metadata": {},
   "outputs": [],
   "source": [
    "model.save('Driver_Profiling.h5') "
   ]
  },
  {
   "cell_type": "code",
   "execution_count": 19,
   "metadata": {},
   "outputs": [
    {
     "name": "stdout",
     "output_type": "stream",
     "text": [
      "976/976 [==============================] - 0s 226us/step\n"
     ]
    },
    {
     "data": {
      "text/plain": [
       "[0.19421542081676546, 0.9661885499954224]"
      ]
     },
     "execution_count": 19,
     "metadata": {},
     "output_type": "execute_result"
    }
   ],
   "source": [
    "model.evaluate(X_test, y_test)"
   ]
  },
  {
   "cell_type": "code",
   "execution_count": 20,
   "metadata": {},
   "outputs": [
    {
     "name": "stdout",
     "output_type": "stream",
     "text": [
      "dict_keys(['val_loss', 'val_accuracy', 'loss', 'accuracy'])\n"
     ]
    },
    {
     "data": {
      "image/png": "[encoded data removed]",
      "text/plain": [
       "<Figure size 432x288 with 1 Axes>"
      ]
     },
     "metadata": {
      "needs_background": "light"
     },
     "output_type": "display_data"
    },
    {
     "data": {
      "image/png": "[encoded data removed]",
      "text/plain": [
       "<Figure size 432x288 with 1 Axes>"
      ]
     },
     "metadata": {
      "needs_background": "light"
     },
     "output_type": "display_data"
    }
   ],
   "source": [
    "print(history.history.keys())\n",
    "# summarize history for accuracy\n",
    "plt.plot(history.history['accuracy'])\n",
    "plt.plot(history.history['val_accuracy'])\n",
    "plt.title('model accuracy')\n",
    "plt.ylabel('accuracy')\n",
    "plt.xlabel('epoch')\n",
    "plt.legend(['train', 'test'], loc='upper left')\n",
    "plt.show()\n",
    "# summarize history for loss\n",
    "plt.plot(history.history['loss'])\n",
    "plt.plot(history.history['val_loss'])\n",
    "plt.title('model loss')\n",
    "plt.ylabel('loss')\n",
    "plt.xlabel('epoch')\n",
    "plt.legend(['train', 'test'], loc='upper left')\n",
    "plt.show()"
   ]
  },
  {
   "cell_type": "code",
   "execution_count": 21,
   "metadata": {},
   "outputs": [],
   "source": [
    "import pandas as pd"
   ]
  },
  {
   "cell_type": "code",
   "execution_count": 22,
   "metadata": {},
   "outputs": [
    {
     "name": "stdout",
     "output_type": "stream",
     "text": [
      "976/976 [==============================] - 0s 217us/step\n",
      "976/976 [==============================] - 0s 205us/step\n",
      "0\n",
      "976/976 [==============================] - 0s 208us/step\n",
      "0\n",
      "976/976 [==============================] - 0s 219us/step\n",
      "0\n",
      "976/976 [==============================] - 0s 222us/step\n",
      "0\n",
      "976/976 [==============================] - 0s 207us/step\n",
      "0\n",
      "976/976 [==============================] - 0s 210us/step\n",
      "0\n",
      "976/976 [==============================] - 0s 237us/step\n",
      "0\n",
      "976/976 [==============================] - 0s 238us/step\n",
      "0\n",
      "976/976 [==============================] - 0s 231us/step\n",
      "    Rate Rows Sensors  Accuracy\n",
      "0     0%    1       7     96.62\n",
      "1     0%   10       7     96.62\n",
      "2   1.0%    1       7     96.31\n",
      "3   1.0%   10       7     96.41\n",
      "4  10.0%    1       7     93.65\n",
      "5  10.0%   10       7     93.65\n",
      "6  30.0%    1       7     88.73\n",
      "7  30.0%   10       7     88.93\n",
      "8  50.0%    1       7     82.99\n",
      "9  50.0%   10       7     82.79\n"
     ]
    }
   ],
   "source": [
    " #Adding some anomalies to the data to test the performance of the model\n",
    "import random\n",
    "rates=[0,0.01,0.1,0.3,0.5]\n",
    "rows=[1,10]\n",
    "sensors=[7]\n",
    "\n",
    "results=pd.DataFrame(columns=[\"Rate\",\"Rows\",\"Sensors\",\"Accuracy\"])\n",
    "for rate in rates:\n",
    "      for row in rows:\n",
    "        for sensor in sensors:\n",
    "            X_test2=X_test.copy()\n",
    "            total=X_test.shape[0]*X_test.shape[1]*X_test.shape[2]\n",
    "            total=int(311*rate)\n",
    "            n=sensor\n",
    "            nrows=row\n",
    "            for i in range(total):\n",
    "                if(i%10000==0):\n",
    "                    print(i)\n",
    "                fst=random.randint(0,X_test.shape[0]-1)\n",
    "                snd=random.randint(0,X_test.shape[1]-nrows)\n",
    "                trh2=random.sample(range(0, X_test.shape[2]), n)\n",
    "                for j in range(n):\n",
    "                    for jj in range(nrows):\n",
    "                        X_test2[fst][snd+jj][trh2[j]]=X_test2[fst][snd+jj][trh2[j]]+3000\n",
    "            acc=round(model.evaluate(X_test2, y_test)[1]*100,2)\n",
    "            results = results.append({'Rate': str(rate*100)+\"%\",'Rows': str(row)+\"\",'Sensors': str(sensor)+\"\",'Accuracy': acc}, ignore_index=True)\n",
    "    #model.evaluate(X_test2, y_test)\n",
    "\n",
    "\n",
    "print(results)"
   ]
  },
  {
   "cell_type": "code",
   "execution_count": 28,
   "metadata": {},
   "outputs": [],
   "source": [
    "model = keras.models.load_model('Driver_Profiling.h5')"
   ]
  },
  {
   "cell_type": "code",
   "execution_count": 45,
   "metadata": {},
   "outputs": [],
   "source": [
    "Live_Data= np.expand_dims(X_predict[6],axis=0)"
   ]
  },
  {
   "cell_type": "code",
   "execution_count": 46,
   "metadata": {},
   "outputs": [
    {
     "data": {
      "text/plain": [
       "(60, 15)"
      ]
     },
     "execution_count": 46,
     "metadata": {},
     "output_type": "execute_result"
    }
   ],
   "source": [
    "X_predict[1].shape"
   ]
  },
  {
   "cell_type": "code",
   "execution_count": 47,
   "metadata": {},
   "outputs": [],
   "source": [
    "pred = model.predict(Live_Data)"
   ]
  },
  {
   "cell_type": "code",
   "execution_count": 48,
   "metadata": {},
   "outputs": [
    {
     "data": {
      "text/plain": [
       "5"
      ]
     },
     "execution_count": 48,
     "metadata": {},
     "output_type": "execute_result"
    }
   ],
   "source": [
    "np.argmax(pred)"
   ]
  },
  {
   "cell_type": "code",
   "execution_count": 49,
   "metadata": {},
   "outputs": [
    {
     "data": {
      "text/plain": [
       "5"
      ]
     },
     "execution_count": 49,
     "metadata": {},
     "output_type": "execute_result"
    }
   ],
   "source": [
    "y_predict[6]"
   ]
  },
  {
   "cell_type": "code",
   "execution_count": 44,
   "metadata": {},
   "outputs": [
    {
     "data": {
      "text/plain": [
       "array([6, 4, 5, 4, 6, 3, 5, 8, 3, 8, 1, 3, 3, 5, 8, 6, 2, 2, 0, 4, 0, 4,\n",
       "       9, 3, 5, 1, 8, 6, 4, 3, 5, 4, 5, 8, 7, 8, 7, 3, 1, 0, 0, 1, 7, 0,\n",
       "       3, 1, 0, 9, 1, 9, 3, 3, 3, 6, 5, 6, 8, 3, 6, 4, 7, 2, 8, 6, 5, 7,\n",
       "       7, 1, 1, 1, 4, 4, 2, 2, 2, 5, 6, 7, 8, 3, 5, 9, 1, 1, 5, 7, 2, 2,\n",
       "       7, 0, 5, 7, 8, 8, 3, 5, 4, 1, 1, 4, 3, 1, 7, 2, 4, 4, 5, 7, 5],\n",
       "      dtype=int64)"
      ]
     },
     "execution_count": 44,
     "metadata": {},
     "output_type": "execute_result"
    }
   ],
   "source": [
    "y_predict"
   ]
  },
  {
   "cell_type": "code",
   "execution_count": null,
   "metadata": {},
   "outputs": [],
   "source": []
  }
 ],
 "metadata": {
  "kernelspec": {
   "display_name": "Python 3",
   "language": "python",
   "name": "python3"
  },
  "language_info": {
   "codemirror_mode": {
    "name": "ipython",
    "version": 3
   },
   "file_extension": ".py",
   "mimetype": "text/x-python",
   "name": "python",
   "nbconvert_exporter": "python",
   "pygments_lexer": "ipython3",
   "version": "3.7.4"
  }
 },
 "nbformat": 4,
 "nbformat_minor": 2
}
